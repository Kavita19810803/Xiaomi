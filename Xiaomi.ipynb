{
 "cells": [
  {
   "cell_type": "code",
   "execution_count": 1,
   "id": "df5f2d45",
   "metadata": {},
   "outputs": [],
   "source": [
    "import pandas as pd\n",
    "import matplotlib.pyplot as plt\n",
    "import seaborn as sns\n",
    "from sklearn.linear_model import LinearRegression\n",
    "from sklearn.metrics import r2_score,mean_squared_error\n",
    "import math"
   ]
  },
  {
   "cell_type": "code",
   "execution_count": 2,
   "id": "6356f088",
   "metadata": {},
   "outputs": [],
   "source": [
    "data = pd.read_excel('Kiaomi.xlsx')"
   ]
  },
  {
   "cell_type": "code",
   "execution_count": 3,
   "id": "8e0ab602",
   "metadata": {},
   "outputs": [
    {
     "data": {
      "text/html": [
       "<div>\n",
       "<style scoped>\n",
       "    .dataframe tbody tr th:only-of-type {\n",
       "        vertical-align: middle;\n",
       "    }\n",
       "\n",
       "    .dataframe tbody tr th {\n",
       "        vertical-align: top;\n",
       "    }\n",
       "\n",
       "    .dataframe thead th {\n",
       "        text-align: right;\n",
       "    }\n",
       "</style>\n",
       "<table border=\"1\" class=\"dataframe\">\n",
       "  <thead>\n",
       "    <tr style=\"text-align: right;\">\n",
       "      <th></th>\n",
       "      <th>Customer</th>\n",
       "      <th>Day</th>\n",
       "      <th>Browser</th>\n",
       "      <th>No. of Clicks</th>\n",
       "      <th>Pages Viewed</th>\n",
       "      <th>Time (min)</th>\n",
       "      <th>Amount Spent (Rs.)</th>\n",
       "    </tr>\n",
       "  </thead>\n",
       "  <tbody>\n",
       "    <tr>\n",
       "      <th>0</th>\n",
       "      <td>1</td>\n",
       "      <td>Monday</td>\n",
       "      <td>Chrome</td>\n",
       "      <td>13</td>\n",
       "      <td>4</td>\n",
       "      <td>8.5</td>\n",
       "      <td>2668.0</td>\n",
       "    </tr>\n",
       "    <tr>\n",
       "      <th>1</th>\n",
       "      <td>2</td>\n",
       "      <td>Saturday</td>\n",
       "      <td>Chrome</td>\n",
       "      <td>15</td>\n",
       "      <td>5</td>\n",
       "      <td>16.9</td>\n",
       "      <td>3469.0</td>\n",
       "    </tr>\n",
       "    <tr>\n",
       "      <th>2</th>\n",
       "      <td>3</td>\n",
       "      <td>Monday</td>\n",
       "      <td>Internet Explorer</td>\n",
       "      <td>20</td>\n",
       "      <td>6</td>\n",
       "      <td>7.3</td>\n",
       "      <td>5215.0</td>\n",
       "    </tr>\n",
       "    <tr>\n",
       "      <th>3</th>\n",
       "      <td>4</td>\n",
       "      <td>Monday</td>\n",
       "      <td>Chrome</td>\n",
       "      <td>42</td>\n",
       "      <td>6</td>\n",
       "      <td>30.1</td>\n",
       "      <td>10423.0</td>\n",
       "    </tr>\n",
       "    <tr>\n",
       "      <th>4</th>\n",
       "      <td>5</td>\n",
       "      <td>Saturday</td>\n",
       "      <td>Internet Explorer</td>\n",
       "      <td>20</td>\n",
       "      <td>6</td>\n",
       "      <td>13.3</td>\n",
       "      <td>5404.0</td>\n",
       "    </tr>\n",
       "  </tbody>\n",
       "</table>\n",
       "</div>"
      ],
      "text/plain": [
       "   Customer       Day            Browser  No. of Clicks  Pages Viewed  \\\n",
       "0         1    Monday             Chrome             13             4   \n",
       "1         2  Saturday             Chrome             15             5   \n",
       "2         3    Monday  Internet Explorer             20             6   \n",
       "3         4    Monday             Chrome             42             6   \n",
       "4         5  Saturday  Internet Explorer             20             6   \n",
       "\n",
       "   Time (min)  Amount Spent (Rs.)  \n",
       "0         8.5              2668.0  \n",
       "1        16.9              3469.0  \n",
       "2         7.3              5215.0  \n",
       "3        30.1             10423.0  \n",
       "4        13.3              5404.0  "
      ]
     },
     "execution_count": 3,
     "metadata": {},
     "output_type": "execute_result"
    }
   ],
   "source": [
    "data.head()"
   ]
  },
  {
   "cell_type": "code",
   "execution_count": 4,
   "id": "3fd40e07",
   "metadata": {},
   "outputs": [
    {
     "data": {
      "text/plain": [
       "(43200, 7)"
      ]
     },
     "execution_count": 4,
     "metadata": {},
     "output_type": "execute_result"
    }
   ],
   "source": [
    "data.shape"
   ]
  },
  {
   "cell_type": "code",
   "execution_count": 5,
   "id": "23ee0142",
   "metadata": {},
   "outputs": [
    {
     "data": {
      "text/html": [
       "<div>\n",
       "<style scoped>\n",
       "    .dataframe tbody tr th:only-of-type {\n",
       "        vertical-align: middle;\n",
       "    }\n",
       "\n",
       "    .dataframe tbody tr th {\n",
       "        vertical-align: top;\n",
       "    }\n",
       "\n",
       "    .dataframe thead th {\n",
       "        text-align: right;\n",
       "    }\n",
       "</style>\n",
       "<table border=\"1\" class=\"dataframe\">\n",
       "  <thead>\n",
       "    <tr style=\"text-align: right;\">\n",
       "      <th></th>\n",
       "      <th>Customer</th>\n",
       "      <th>No. of Clicks</th>\n",
       "      <th>Pages Viewed</th>\n",
       "      <th>Time (min)</th>\n",
       "      <th>Amount Spent (Rs.)</th>\n",
       "    </tr>\n",
       "  </thead>\n",
       "  <tbody>\n",
       "    <tr>\n",
       "      <th>count</th>\n",
       "      <td>43200.000000</td>\n",
       "      <td>43200.000000</td>\n",
       "      <td>43200.000000</td>\n",
       "      <td>43200.000000</td>\n",
       "      <td>43200.000000</td>\n",
       "    </tr>\n",
       "    <tr>\n",
       "      <th>mean</th>\n",
       "      <td>21600.500000</td>\n",
       "      <td>23.740000</td>\n",
       "      <td>4.820000</td>\n",
       "      <td>12.810000</td>\n",
       "      <td>6812.820000</td>\n",
       "    </tr>\n",
       "    <tr>\n",
       "      <th>std</th>\n",
       "      <td>12470.910151</td>\n",
       "      <td>8.267647</td>\n",
       "      <td>2.016853</td>\n",
       "      <td>6.002444</td>\n",
       "      <td>3201.905731</td>\n",
       "    </tr>\n",
       "    <tr>\n",
       "      <th>min</th>\n",
       "      <td>1.000000</td>\n",
       "      <td>8.000000</td>\n",
       "      <td>2.000000</td>\n",
       "      <td>4.300000</td>\n",
       "      <td>1784.000000</td>\n",
       "    </tr>\n",
       "    <tr>\n",
       "      <th>25%</th>\n",
       "      <td>10800.750000</td>\n",
       "      <td>18.000000</td>\n",
       "      <td>3.000000</td>\n",
       "      <td>8.500000</td>\n",
       "      <td>4473.000000</td>\n",
       "    </tr>\n",
       "    <tr>\n",
       "      <th>50%</th>\n",
       "      <td>21600.500000</td>\n",
       "      <td>22.500000</td>\n",
       "      <td>4.500000</td>\n",
       "      <td>11.400000</td>\n",
       "      <td>6215.000000</td>\n",
       "    </tr>\n",
       "    <tr>\n",
       "      <th>75%</th>\n",
       "      <td>32400.250000</td>\n",
       "      <td>29.000000</td>\n",
       "      <td>6.000000</td>\n",
       "      <td>15.100000</td>\n",
       "      <td>8412.000000</td>\n",
       "    </tr>\n",
       "    <tr>\n",
       "      <th>max</th>\n",
       "      <td>43200.000000</td>\n",
       "      <td>46.000000</td>\n",
       "      <td>10.000000</td>\n",
       "      <td>32.900000</td>\n",
       "      <td>15851.000000</td>\n",
       "    </tr>\n",
       "  </tbody>\n",
       "</table>\n",
       "</div>"
      ],
      "text/plain": [
       "           Customer  No. of Clicks  Pages Viewed    Time (min)  \\\n",
       "count  43200.000000   43200.000000  43200.000000  43200.000000   \n",
       "mean   21600.500000      23.740000      4.820000     12.810000   \n",
       "std    12470.910151       8.267647      2.016853      6.002444   \n",
       "min        1.000000       8.000000      2.000000      4.300000   \n",
       "25%    10800.750000      18.000000      3.000000      8.500000   \n",
       "50%    21600.500000      22.500000      4.500000     11.400000   \n",
       "75%    32400.250000      29.000000      6.000000     15.100000   \n",
       "max    43200.000000      46.000000     10.000000     32.900000   \n",
       "\n",
       "       Amount Spent (Rs.)  \n",
       "count        43200.000000  \n",
       "mean          6812.820000  \n",
       "std           3201.905731  \n",
       "min           1784.000000  \n",
       "25%           4473.000000  \n",
       "50%           6215.000000  \n",
       "75%           8412.000000  \n",
       "max          15851.000000  "
      ]
     },
     "execution_count": 5,
     "metadata": {},
     "output_type": "execute_result"
    }
   ],
   "source": [
    "#performimg Descriptivs statistics\n",
    "\n",
    "data.describe()"
   ]
  },
  {
   "cell_type": "code",
   "execution_count": 6,
   "id": "085fd43a",
   "metadata": {},
   "outputs": [
    {
     "data": {
      "text/plain": [
       "Customer              0.000000\n",
       "No. of Clicks         0.677900\n",
       "Pages Viewed          0.626857\n",
       "Time (min)            1.406018\n",
       "Amount Spent (Rs.)    1.017343\n",
       "dtype: float64"
      ]
     },
     "execution_count": 6,
     "metadata": {},
     "output_type": "execute_result"
    }
   ],
   "source": [
    "data.skew()"
   ]
  },
  {
   "cell_type": "code",
   "execution_count": 7,
   "id": "56950bf4",
   "metadata": {},
   "outputs": [
    {
     "data": {
      "text/plain": [
       "Customer             -1.200000\n",
       "No. of Clicks         0.025564\n",
       "Pages Viewed          0.034871\n",
       "Time (min)            2.053011\n",
       "Amount Spent (Rs.)    0.673882\n",
       "dtype: float64"
      ]
     },
     "execution_count": 7,
     "metadata": {},
     "output_type": "execute_result"
    }
   ],
   "source": [
    "data.kurt()"
   ]
  },
  {
   "cell_type": "code",
   "execution_count": 8,
   "id": "08a3842f",
   "metadata": {},
   "outputs": [
    {
     "data": {
      "text/html": [
       "<div>\n",
       "<style scoped>\n",
       "    .dataframe tbody tr th:only-of-type {\n",
       "        vertical-align: middle;\n",
       "    }\n",
       "\n",
       "    .dataframe tbody tr th {\n",
       "        vertical-align: top;\n",
       "    }\n",
       "\n",
       "    .dataframe thead th {\n",
       "        text-align: right;\n",
       "    }\n",
       "</style>\n",
       "<table border=\"1\" class=\"dataframe\">\n",
       "  <thead>\n",
       "    <tr style=\"text-align: right;\">\n",
       "      <th></th>\n",
       "      <th>Customer</th>\n",
       "      <th>No. of Clicks</th>\n",
       "      <th>Pages Viewed</th>\n",
       "      <th>Time (min)</th>\n",
       "      <th>Amount Spent (Rs.)</th>\n",
       "    </tr>\n",
       "  </thead>\n",
       "  <tbody>\n",
       "    <tr>\n",
       "      <th>Customer</th>\n",
       "      <td>1.000000</td>\n",
       "      <td>0.002474</td>\n",
       "      <td>0.000821</td>\n",
       "      <td>-0.001407</td>\n",
       "      <td>0.002682</td>\n",
       "    </tr>\n",
       "    <tr>\n",
       "      <th>No. of Clicks</th>\n",
       "      <td>0.002474</td>\n",
       "      <td>1.000000</td>\n",
       "      <td>0.566934</td>\n",
       "      <td>0.516365</td>\n",
       "      <td>0.903248</td>\n",
       "    </tr>\n",
       "    <tr>\n",
       "      <th>Pages Viewed</th>\n",
       "      <td>0.000821</td>\n",
       "      <td>0.566934</td>\n",
       "      <td>1.000000</td>\n",
       "      <td>0.595568</td>\n",
       "      <td>0.723667</td>\n",
       "    </tr>\n",
       "    <tr>\n",
       "      <th>Time (min)</th>\n",
       "      <td>-0.001407</td>\n",
       "      <td>0.516365</td>\n",
       "      <td>0.595568</td>\n",
       "      <td>1.000000</td>\n",
       "      <td>0.580048</td>\n",
       "    </tr>\n",
       "    <tr>\n",
       "      <th>Amount Spent (Rs.)</th>\n",
       "      <td>0.002682</td>\n",
       "      <td>0.903248</td>\n",
       "      <td>0.723667</td>\n",
       "      <td>0.580048</td>\n",
       "      <td>1.000000</td>\n",
       "    </tr>\n",
       "  </tbody>\n",
       "</table>\n",
       "</div>"
      ],
      "text/plain": [
       "                    Customer  No. of Clicks  Pages Viewed  Time (min)  \\\n",
       "Customer            1.000000       0.002474      0.000821   -0.001407   \n",
       "No. of Clicks       0.002474       1.000000      0.566934    0.516365   \n",
       "Pages Viewed        0.000821       0.566934      1.000000    0.595568   \n",
       "Time (min)         -0.001407       0.516365      0.595568    1.000000   \n",
       "Amount Spent (Rs.)  0.002682       0.903248      0.723667    0.580048   \n",
       "\n",
       "                    Amount Spent (Rs.)  \n",
       "Customer                      0.002682  \n",
       "No. of Clicks                 0.903248  \n",
       "Pages Viewed                  0.723667  \n",
       "Time (min)                    0.580048  \n",
       "Amount Spent (Rs.)            1.000000  "
      ]
     },
     "execution_count": 8,
     "metadata": {},
     "output_type": "execute_result"
    }
   ],
   "source": [
    "data.corr()"
   ]
  },
  {
   "cell_type": "code",
   "execution_count": 9,
   "id": "36afa11a",
   "metadata": {},
   "outputs": [
    {
     "data": {
      "text/plain": [
       "Text(0, 0.5, 'Density')"
      ]
     },
     "execution_count": 9,
     "metadata": {},
     "output_type": "execute_result"
    },
    {
     "data": {
      "image/png": "[encoded data removed]",
      "text/plain": [
       "<Figure size 432x288 with 1 Axes>"
      ]
     },
     "metadata": {
      "needs_background": "light"
     },
     "output_type": "display_data"
    }
   ],
   "source": [
    "#creating visuals\n",
    "\n",
    "# plotting Histogram for no. of clicks using matplotlib\n",
    "\n",
    "\n",
    "\n",
    "plt.hist(data['No. of Clicks'],color='green')\n",
    "\n",
    "plt.title('Histogram for No. of Clicks')\n",
    "plt.xlabel('No. of Clicks')\n",
    "plt.ylabel('Density')"
   ]
  },
  {
   "cell_type": "code",
   "execution_count": 10,
   "id": "500b6a93",
   "metadata": {},
   "outputs": [
    {
     "name": "stderr",
     "output_type": "stream",
     "text": [
      "D:\\Users\\hp\\anaconda3\\lib\\site-packages\\seaborn\\distributions.py:2557: FutureWarning: `distplot` is a deprecated function and will be removed in a future version. Please adapt your code to use either `displot` (a figure-level function with similar flexibility) or `histplot` (an axes-level function for histograms).\n",
      "  warnings.warn(msg, FutureWarning)\n"
     ]
    },
    {
     "data": {
      "text/plain": [
       "Text(0, 0.5, 'Density')"
      ]
     },
     "execution_count": 10,
     "metadata": {},
     "output_type": "execute_result"
    },
    {
     "data": {
      "image/png": "[encoded data removed]",
      "text/plain": [
       "<Figure size 432x288 with 1 Axes>"
      ]
     },
     "metadata": {
      "needs_background": "light"
     },
     "output_type": "display_data"
    }
   ],
   "source": [
    "#plotting histogram for no. of clicks using seaborn\n",
    "\n",
    "sns.distplot(data['No. of Clicks'])\n",
    "plt.title('Histogram for No. of Clicks')\n",
    "plt.xlabel('No. of Clicks')\n",
    "plt.ylabel('Density')"
   ]
  },
  {
   "cell_type": "code",
   "execution_count": 11,
   "id": "18f37660",
   "metadata": {},
   "outputs": [
    {
     "data": {
      "text/plain": [
       "{'whiskers': [<matplotlib.lines.Line2D at 0x19c20134820>,\n",
       "  <matplotlib.lines.Line2D at 0x19c20134b80>],\n",
       " 'caps': [<matplotlib.lines.Line2D at 0x19c20134ee0>,\n",
       "  <matplotlib.lines.Line2D at 0x19c20146280>],\n",
       " 'boxes': [<matplotlib.lines.Line2D at 0x19c20134490>],\n",
       " 'medians': [<matplotlib.lines.Line2D at 0x19c201465e0>],\n",
       " 'fliers': [<matplotlib.lines.Line2D at 0x19c20146940>],\n",
       " 'means': []}"
      ]
     },
     "execution_count": 11,
     "metadata": {},
     "output_type": "execute_result"
    },
    {
     "data": {
      "image/png": "[encoded data removed]",
      "text/plain": [
       "<Figure size 432x288 with 1 Axes>"
      ]
     },
     "metadata": {
      "needs_background": "light"
     },
     "output_type": "display_data"
    }
   ],
   "source": [
    "#plotting a Box Plot using Matplotlib for No. of Clicks\n",
    "\n",
    "plt.boxplot(data['No. of Clicks'])"
   ]
  },
  {
   "cell_type": "code",
   "execution_count": 12,
   "id": "f431f7ba",
   "metadata": {},
   "outputs": [
    {
     "name": "stderr",
     "output_type": "stream",
     "text": [
      "D:\\Users\\hp\\anaconda3\\lib\\site-packages\\seaborn\\_decorators.py:36: FutureWarning: Pass the following variable as a keyword arg: x. From version 0.12, the only valid positional argument will be `data`, and passing other arguments without an explicit keyword will result in an error or misinterpretation.\n",
      "  warnings.warn(\n"
     ]
    },
    {
     "data": {
      "text/plain": [
       "<AxesSubplot:xlabel='No. of Clicks'>"
      ]
     },
     "execution_count": 12,
     "metadata": {},
     "output_type": "execute_result"
    },
    {
     "data": {
      "image/png": "[encoded data removed]",
      "text/plain": [
       "<Figure size 432x288 with 1 Axes>"
      ]
     },
     "metadata": {
      "needs_background": "light"
     },
     "output_type": "display_data"
    }
   ],
   "source": [
    "sns.boxplot(data['No. of Clicks'])"
   ]
  },
  {
   "cell_type": "code",
   "execution_count": 13,
   "id": "957e7ec3",
   "metadata": {},
   "outputs": [
    {
     "data": {
      "text/plain": [
       "Text(0, 0.5, 'Amount')"
      ]
     },
     "execution_count": 13,
     "metadata": {},
     "output_type": "execute_result"
    },
    {
     "data": {
      "image/png": "[encoded data removed]",
      "text/plain": [
       "<Figure size 432x288 with 1 Axes>"
      ]
     },
     "metadata": {
      "needs_background": "light"
     },
     "output_type": "display_data"
    }
   ],
   "source": [
    "#plotting a scatter graph using matplotlib\n",
    "\n",
    "plt.scatter(data['No. of Clicks'],data['Amount Spent (Rs.)'])\n",
    "plt.title('Scatter Plot between Clicks and Amount')\n",
    "plt.xlabel('No. of Clicks')\n",
    "plt.ylabel('Amount')"
   ]
  },
  {
   "cell_type": "code",
   "execution_count": 14,
   "id": "ef3d1016",
   "metadata": {},
   "outputs": [
    {
     "name": "stderr",
     "output_type": "stream",
     "text": [
      "D:\\Users\\hp\\anaconda3\\lib\\site-packages\\seaborn\\_decorators.py:36: FutureWarning: Pass the following variables as keyword args: x, y. From version 0.12, the only valid positional argument will be `data`, and passing other arguments without an explicit keyword will result in an error or misinterpretation.\n",
      "  warnings.warn(\n"
     ]
    },
    {
     "data": {
      "text/plain": [
       "Text(0.5, 1.0, 'Scatter plot for No. of Clicks')"
      ]
     },
     "execution_count": 14,
     "metadata": {},
     "output_type": "execute_result"
    },
    {
     "data": {
      "image/png": "[encoded data removed]",
      "text/plain": [
       "<Figure size 432x288 with 1 Axes>"
      ]
     },
     "metadata": {
      "needs_background": "light"
     },
     "output_type": "display_data"
    }
   ],
   "source": [
    "sns.scatterplot(data['No. of Clicks'],data['Amount Spent (Rs.)'])\n",
    "plt.title('Scatter plot for No. of Clicks')\n"
   ]
  },
  {
   "cell_type": "code",
   "execution_count": 15,
   "id": "41fc9c76",
   "metadata": {},
   "outputs": [
    {
     "name": "stderr",
     "output_type": "stream",
     "text": [
      "D:\\Users\\hp\\anaconda3\\lib\\site-packages\\seaborn\\_decorators.py:36: FutureWarning: Pass the following variables as keyword args: x, y. From version 0.12, the only valid positional argument will be `data`, and passing other arguments without an explicit keyword will result in an error or misinterpretation.\n",
      "  warnings.warn(\n"
     ]
    },
    {
     "data": {
      "text/plain": [
       "<AxesSubplot:xlabel='No. of Clicks', ylabel='Amount Spent (Rs.)'>"
      ]
     },
     "execution_count": 15,
     "metadata": {},
     "output_type": "execute_result"
    },
    {
     "data": {
      "image/png": "[encoded data removed]",
      "text/plain": [
       "<Figure size 432x288 with 1 Axes>"
      ]
     },
     "metadata": {
      "needs_background": "light"
     },
     "output_type": "display_data"
    }
   ],
   "source": [
    "sns.regplot(data['No. of Clicks'],data['Amount Spent (Rs.)'])"
   ]
  },
  {
   "cell_type": "code",
   "execution_count": 16,
   "id": "ad996bb2",
   "metadata": {},
   "outputs": [],
   "source": [
    "#correlation Study\n",
    "\n",
    "corr=data.corr()"
   ]
  },
  {
   "cell_type": "code",
   "execution_count": 17,
   "id": "86718abe",
   "metadata": {},
   "outputs": [
    {
     "data": {
      "text/plain": [
       "<AxesSubplot:>"
      ]
     },
     "execution_count": 17,
     "metadata": {},
     "output_type": "execute_result"
    },
    {
     "data": {
      "image/png": "[encoded data removed]",
      "text/plain": [
       "<Figure size 432x288 with 2 Axes>"
      ]
     },
     "metadata": {
      "needs_background": "light"
     },
     "output_type": "display_data"
    }
   ],
   "source": [
    "#visualizing correlation Matrix\n",
    "\n",
    "sns.heatmap(corr,annot=True)\n"
   ]
  },
  {
   "cell_type": "markdown",
   "id": "e41ebac3",
   "metadata": {},
   "source": [
    "# Steps for building Predictive Modelling:\n",
    "\n",
    "## 1. Import the relevant the model building library.\n",
    "## 2. Separate X, Y and store it in new variable.\n",
    "## 3. Store Linear Regression Function in a small variable.\n",
    "## 4. Build/ Fit the model using X and Y.\n",
    "## 5. Predict the model for new predicted Y using X variables.\n",
    "## 6. Evaluate the model (R-square and RMSE)\n"
   ]
  },
  {
   "cell_type": "code",
   "execution_count": 18,
   "id": "a142a935",
   "metadata": {},
   "outputs": [
    {
     "data": {
      "text/plain": [
       "0    13\n",
       "1    15\n",
       "2    20\n",
       "3    42\n",
       "4    20\n",
       "Name: No. of Clicks, dtype: int64"
      ]
     },
     "execution_count": 18,
     "metadata": {},
     "output_type": "execute_result"
    }
   ],
   "source": [
    "#creating X and Y variables\n",
    "\n",
    "x=data['No. of Clicks']\n",
    "x.head()"
   ]
  },
  {
   "cell_type": "code",
   "execution_count": 19,
   "id": "03dd8de0",
   "metadata": {},
   "outputs": [
    {
     "data": {
      "text/html": [
       "<div>\n",
       "<style scoped>\n",
       "    .dataframe tbody tr th:only-of-type {\n",
       "        vertical-align: middle;\n",
       "    }\n",
       "\n",
       "    .dataframe tbody tr th {\n",
       "        vertical-align: top;\n",
       "    }\n",
       "\n",
       "    .dataframe thead th {\n",
       "        text-align: right;\n",
       "    }\n",
       "</style>\n",
       "<table border=\"1\" class=\"dataframe\">\n",
       "  <thead>\n",
       "    <tr style=\"text-align: right;\">\n",
       "      <th></th>\n",
       "      <th>No. of Clicks</th>\n",
       "    </tr>\n",
       "  </thead>\n",
       "  <tbody>\n",
       "    <tr>\n",
       "      <th>0</th>\n",
       "      <td>13</td>\n",
       "    </tr>\n",
       "    <tr>\n",
       "      <th>1</th>\n",
       "      <td>15</td>\n",
       "    </tr>\n",
       "    <tr>\n",
       "      <th>2</th>\n",
       "      <td>20</td>\n",
       "    </tr>\n",
       "    <tr>\n",
       "      <th>3</th>\n",
       "      <td>42</td>\n",
       "    </tr>\n",
       "    <tr>\n",
       "      <th>4</th>\n",
       "      <td>20</td>\n",
       "    </tr>\n",
       "  </tbody>\n",
       "</table>\n",
       "</div>"
      ],
      "text/plain": [
       "   No. of Clicks\n",
       "0             13\n",
       "1             15\n",
       "2             20\n",
       "3             42\n",
       "4             20"
      ]
     },
     "execution_count": 19,
     "metadata": {},
     "output_type": "execute_result"
    }
   ],
   "source": [
    "#converting list (x) variable into DataFrame\n",
    "\n",
    "x=pd.DataFrame(x)\n",
    "x.head()"
   ]
  },
  {
   "cell_type": "code",
   "execution_count": 20,
   "id": "d1fbc0c6",
   "metadata": {},
   "outputs": [
    {
     "data": {
      "text/html": [
       "<div>\n",
       "<style scoped>\n",
       "    .dataframe tbody tr th:only-of-type {\n",
       "        vertical-align: middle;\n",
       "    }\n",
       "\n",
       "    .dataframe tbody tr th {\n",
       "        vertical-align: top;\n",
       "    }\n",
       "\n",
       "    .dataframe thead th {\n",
       "        text-align: right;\n",
       "    }\n",
       "</style>\n",
       "<table border=\"1\" class=\"dataframe\">\n",
       "  <thead>\n",
       "    <tr style=\"text-align: right;\">\n",
       "      <th></th>\n",
       "      <th>Amount Spent (Rs.)</th>\n",
       "    </tr>\n",
       "  </thead>\n",
       "  <tbody>\n",
       "    <tr>\n",
       "      <th>0</th>\n",
       "      <td>2668.0</td>\n",
       "    </tr>\n",
       "    <tr>\n",
       "      <th>1</th>\n",
       "      <td>3469.0</td>\n",
       "    </tr>\n",
       "    <tr>\n",
       "      <th>2</th>\n",
       "      <td>5215.0</td>\n",
       "    </tr>\n",
       "    <tr>\n",
       "      <th>3</th>\n",
       "      <td>10423.0</td>\n",
       "    </tr>\n",
       "    <tr>\n",
       "      <th>4</th>\n",
       "      <td>5404.0</td>\n",
       "    </tr>\n",
       "  </tbody>\n",
       "</table>\n",
       "</div>"
      ],
      "text/plain": [
       "   Amount Spent (Rs.)\n",
       "0              2668.0\n",
       "1              3469.0\n",
       "2              5215.0\n",
       "3             10423.0\n",
       "4              5404.0"
      ]
     },
     "execution_count": 20,
     "metadata": {},
     "output_type": "execute_result"
    }
   ],
   "source": [
    "y=data['Amount Spent (Rs.)']\n",
    "y=pd.DataFrame(y)\n",
    "y.head()"
   ]
  },
  {
   "cell_type": "code",
   "execution_count": 21,
   "id": "51850cf3",
   "metadata": {},
   "outputs": [],
   "source": [
    "#storing linear regession function in a small variable\n",
    "\n",
    "lr=LinearRegression()"
   ]
  },
  {
   "cell_type": "code",
   "execution_count": 22,
   "id": "51c5cc41",
   "metadata": {},
   "outputs": [
    {
     "data": {
      "text/plain": [
       "LinearRegression()"
      ]
     },
     "execution_count": 22,
     "metadata": {},
     "output_type": "execute_result"
    }
   ],
   "source": [
    "#building a Model\n",
    "\n",
    "lr.fit(x,y)"
   ]
  },
  {
   "cell_type": "code",
   "execution_count": 23,
   "id": "83128e92",
   "metadata": {},
   "outputs": [],
   "source": [
    "#predicting new Y variable\n",
    "\n",
    "new_y=lr.predict(x)"
   ]
  },
  {
   "cell_type": "code",
   "execution_count": 24,
   "id": "5225f8c4",
   "metadata": {},
   "outputs": [
    {
     "name": "stdout",
     "output_type": "stream",
     "text": [
      "R Square for the model is: 0.8158570887617314\n"
     ]
    }
   ],
   "source": [
    "#Evaluating the model\n",
    "print('R Square for the model is:',r2_score(y,new_y))"
   ]
  },
  {
   "cell_type": "code",
   "execution_count": 25,
   "id": "adf357a7",
   "metadata": {},
   "outputs": [],
   "source": [
    "MSE=mean_squared_error(y,new_y)"
   ]
  },
  {
   "cell_type": "code",
   "execution_count": 26,
   "id": "68f2014c",
   "metadata": {},
   "outputs": [],
   "source": [
    "RMSE=math.sqrt(MSE)"
   ]
  },
  {
   "cell_type": "code",
   "execution_count": 27,
   "id": "c36e0b7d",
   "metadata": {},
   "outputs": [],
   "source": [
    "avg_y=y.mean()"
   ]
  },
  {
   "cell_type": "code",
   "execution_count": 28,
   "id": "a06fce82",
   "metadata": {},
   "outputs": [],
   "source": [
    "RMSE_percent=RMSE/avg_y"
   ]
  },
  {
   "cell_type": "code",
   "execution_count": 29,
   "id": "6137372a",
   "metadata": {},
   "outputs": [
    {
     "data": {
      "text/plain": [
       "Amount Spent (Rs.)    0.201676\n",
       "dtype: float64"
      ]
     },
     "execution_count": 29,
     "metadata": {},
     "output_type": "execute_result"
    }
   ],
   "source": [
    "RMSE_percent"
   ]
  },
  {
   "cell_type": "code",
   "execution_count": 30,
   "id": "62ee634a",
   "metadata": {},
   "outputs": [
    {
     "data": {
      "text/plain": [
       "Text(0, 0.5, 'Density')"
      ]
     },
     "execution_count": 30,
     "metadata": {},
     "output_type": "execute_result"
    },
    {
     "data": {
      "image/png": "[encoded data removed]",
      "text/plain": [
       "<Figure size 432x288 with 1 Axes>"
      ]
     },
     "metadata": {
      "needs_background": "light"
     },
     "output_type": "display_data"
    }
   ],
   "source": [
    "plt.hist(data['Pages Viewed'],color='red')\n",
    "plt.title('Histogram for Pages Viewed')\n",
    "plt.xlabel('Pages Viewed')\n",
    "plt.ylabel('Density')"
   ]
  },
  {
   "cell_type": "code",
   "execution_count": 31,
   "id": "fbf0132f",
   "metadata": {},
   "outputs": [
    {
     "name": "stderr",
     "output_type": "stream",
     "text": [
      "D:\\Users\\hp\\anaconda3\\lib\\site-packages\\seaborn\\distributions.py:2557: FutureWarning: `distplot` is a deprecated function and will be removed in a future version. Please adapt your code to use either `displot` (a figure-level function with similar flexibility) or `histplot` (an axes-level function for histograms).\n",
      "  warnings.warn(msg, FutureWarning)\n"
     ]
    },
    {
     "ename": "AttributeError",
     "evalue": "module 'seaborn' has no attribute 'title'",
     "output_type": "error",
     "traceback": [
      "\u001b[1;31m---------------------------------------------------------------------------\u001b[0m",
      "\u001b[1;31mAttributeError\u001b[0m                            Traceback (most recent call last)",
      "\u001b[1;32m<ipython-input-31-ce4fd4c701d0>\u001b[0m in \u001b[0;36m<module>\u001b[1;34m\u001b[0m\n\u001b[0;32m      1\u001b[0m \u001b[0msns\u001b[0m\u001b[1;33m.\u001b[0m\u001b[0mdistplot\u001b[0m\u001b[1;33m(\u001b[0m\u001b[0mdata\u001b[0m\u001b[1;33m[\u001b[0m\u001b[1;34m'Pages Viewed'\u001b[0m\u001b[1;33m]\u001b[0m\u001b[1;33m,\u001b[0m\u001b[0mcolor\u001b[0m\u001b[1;33m=\u001b[0m\u001b[1;34m'red'\u001b[0m\u001b[1;33m)\u001b[0m\u001b[1;33m\u001b[0m\u001b[1;33m\u001b[0m\u001b[0m\n\u001b[1;32m----> 2\u001b[1;33m \u001b[0msns\u001b[0m\u001b[1;33m.\u001b[0m\u001b[0mtitle\u001b[0m\u001b[1;33m(\u001b[0m\u001b[1;34m'Histogram for Pages Viewed'\u001b[0m\u001b[1;33m)\u001b[0m\u001b[1;33m\u001b[0m\u001b[1;33m\u001b[0m\u001b[0m\n\u001b[0m",
      "\u001b[1;31mAttributeError\u001b[0m: module 'seaborn' has no attribute 'title'"
     ]
    },
    {
     "data": {
      "image/png": "[encoded data removed]",
      "text/plain": [
       "<Figure size 432x288 with 1 Axes>"
      ]
     },
     "metadata": {
      "needs_background": "light"
     },
     "output_type": "display_data"
    }
   ],
   "source": [
    "sns.distplot(data['Pages Viewed'],color='red')\n",
    "sns.title('Histogram for Pages Viewed')\n"
   ]
  },
  {
   "cell_type": "code",
   "execution_count": null,
   "id": "91303280",
   "metadata": {},
   "outputs": [],
   "source": [
    "plt.boxplot(data['Pages Viewed'])"
   ]
  },
  {
   "cell_type": "code",
   "execution_count": null,
   "id": "b8924cb8",
   "metadata": {},
   "outputs": [],
   "source": [
    "sns.boxplot(data['Pages Viewed'])"
   ]
  },
  {
   "cell_type": "code",
   "execution_count": null,
   "id": "21d3556d",
   "metadata": {},
   "outputs": [],
   "source": [
    "plt.scatter(data['Pages Viewed'],data['Amount Spent (Rs.)'])\n",
    "plt.title('Scatter Plot between Pages Viewed and Amount')\n",
    "plt.xlabel('Pages Viewed')\n",
    "plt.ylabel('Amount')"
   ]
  },
  {
   "cell_type": "code",
   "execution_count": null,
   "id": "162c7cf1",
   "metadata": {},
   "outputs": [],
   "source": [
    "sns.scatterplot(data['Pages Viewed'],data['Amount Spent (Rs.)'])\n",
    "sns.title('Scatter Plot between Pages Viewed and Amount')"
   ]
  },
  {
   "cell_type": "code",
   "execution_count": null,
   "id": "fe16cbbe",
   "metadata": {},
   "outputs": [],
   "source": [
    "sns.regplot(data['Pages Viewed'],data['Amount Spent (Rs.)'])"
   ]
  },
  {
   "cell_type": "code",
   "execution_count": 39,
   "id": "390f8db4",
   "metadata": {},
   "outputs": [
    {
     "data": {
      "text/html": [
       "<div>\n",
       "<style scoped>\n",
       "    .dataframe tbody tr th:only-of-type {\n",
       "        vertical-align: middle;\n",
       "    }\n",
       "\n",
       "    .dataframe tbody tr th {\n",
       "        vertical-align: top;\n",
       "    }\n",
       "\n",
       "    .dataframe thead th {\n",
       "        text-align: right;\n",
       "    }\n",
       "</style>\n",
       "<table border=\"1\" class=\"dataframe\">\n",
       "  <thead>\n",
       "    <tr style=\"text-align: right;\">\n",
       "      <th></th>\n",
       "      <th>Pages Viewed</th>\n",
       "      <th>Time (min)</th>\n",
       "    </tr>\n",
       "  </thead>\n",
       "  <tbody>\n",
       "    <tr>\n",
       "      <th>0</th>\n",
       "      <td>4</td>\n",
       "      <td>8.5</td>\n",
       "    </tr>\n",
       "    <tr>\n",
       "      <th>1</th>\n",
       "      <td>5</td>\n",
       "      <td>16.9</td>\n",
       "    </tr>\n",
       "    <tr>\n",
       "      <th>2</th>\n",
       "      <td>6</td>\n",
       "      <td>7.3</td>\n",
       "    </tr>\n",
       "    <tr>\n",
       "      <th>3</th>\n",
       "      <td>6</td>\n",
       "      <td>30.1</td>\n",
       "    </tr>\n",
       "    <tr>\n",
       "      <th>4</th>\n",
       "      <td>6</td>\n",
       "      <td>13.3</td>\n",
       "    </tr>\n",
       "  </tbody>\n",
       "</table>\n",
       "</div>"
      ],
      "text/plain": [
       "   Pages Viewed  Time (min)\n",
       "0             4         8.5\n",
       "1             5        16.9\n",
       "2             6         7.3\n",
       "3             6        30.1\n",
       "4             6        13.3"
      ]
     },
     "execution_count": 39,
     "metadata": {},
     "output_type": "execute_result"
    }
   ],
   "source": [
    "x=data.iloc[:,4:6]\n",
    "x.head()"
   ]
  },
  {
   "cell_type": "code",
   "execution_count": 41,
   "id": "081dadd2",
   "metadata": {},
   "outputs": [
    {
     "data": {
      "text/html": [
       "<div>\n",
       "<style scoped>\n",
       "    .dataframe tbody tr th:only-of-type {\n",
       "        vertical-align: middle;\n",
       "    }\n",
       "\n",
       "    .dataframe tbody tr th {\n",
       "        vertical-align: top;\n",
       "    }\n",
       "\n",
       "    .dataframe thead th {\n",
       "        text-align: right;\n",
       "    }\n",
       "</style>\n",
       "<table border=\"1\" class=\"dataframe\">\n",
       "  <thead>\n",
       "    <tr style=\"text-align: right;\">\n",
       "      <th></th>\n",
       "      <th>Amount Spent (Rs.)</th>\n",
       "    </tr>\n",
       "  </thead>\n",
       "  <tbody>\n",
       "    <tr>\n",
       "      <th>0</th>\n",
       "      <td>2668.0</td>\n",
       "    </tr>\n",
       "    <tr>\n",
       "      <th>1</th>\n",
       "      <td>3469.0</td>\n",
       "    </tr>\n",
       "    <tr>\n",
       "      <th>2</th>\n",
       "      <td>5215.0</td>\n",
       "    </tr>\n",
       "    <tr>\n",
       "      <th>3</th>\n",
       "      <td>10423.0</td>\n",
       "    </tr>\n",
       "    <tr>\n",
       "      <th>4</th>\n",
       "      <td>5404.0</td>\n",
       "    </tr>\n",
       "  </tbody>\n",
       "</table>\n",
       "</div>"
      ],
      "text/plain": [
       "   Amount Spent (Rs.)\n",
       "0              2668.0\n",
       "1              3469.0\n",
       "2              5215.0\n",
       "3             10423.0\n",
       "4              5404.0"
      ]
     },
     "execution_count": 41,
     "metadata": {},
     "output_type": "execute_result"
    }
   ],
   "source": [
    "y=data['Amount Spent (Rs.)']\n",
    "y=pd.DataFrame(y)\n",
    "y.head()"
   ]
  },
  {
   "cell_type": "code",
   "execution_count": 42,
   "id": "bb7d5fc2",
   "metadata": {},
   "outputs": [],
   "source": [
    "lr=LinearRegression()"
   ]
  },
  {
   "cell_type": "code",
   "execution_count": 43,
   "id": "9636fc3e",
   "metadata": {},
   "outputs": [
    {
     "data": {
      "text/plain": [
       "LinearRegression()"
      ]
     },
     "execution_count": 43,
     "metadata": {},
     "output_type": "execute_result"
    }
   ],
   "source": [
    "lr.fit(x,y)"
   ]
  },
  {
   "cell_type": "code",
   "execution_count": 44,
   "id": "bf4139ff",
   "metadata": {},
   "outputs": [],
   "source": [
    "new_y=lr.predict(x)"
   ]
  },
  {
   "cell_type": "code",
   "execution_count": 45,
   "id": "847c18f5",
   "metadata": {},
   "outputs": [
    {
     "name": "stdout",
     "output_type": "stream",
     "text": [
      "R Square for the model is: 0.5581234544599036\n"
     ]
    }
   ],
   "source": [
    "print('R Square for the model is:',r2_score(y,new_y))"
   ]
  },
  {
   "cell_type": "code",
   "execution_count": 46,
   "id": "7fd1c804",
   "metadata": {},
   "outputs": [],
   "source": [
    "MSE=mean_squared_error(y,new_y)"
   ]
  },
  {
   "cell_type": "code",
   "execution_count": 47,
   "id": "a281b24e",
   "metadata": {},
   "outputs": [],
   "source": [
    "RMSE=math.sqrt(MSE)"
   ]
  },
  {
   "cell_type": "code",
   "execution_count": 48,
   "id": "638e34c7",
   "metadata": {},
   "outputs": [],
   "source": [
    "avg_y=y.mean()"
   ]
  },
  {
   "cell_type": "code",
   "execution_count": 49,
   "id": "9c72d090",
   "metadata": {},
   "outputs": [],
   "source": [
    "RMSE_percent=RMSE/avg_y"
   ]
  },
  {
   "cell_type": "code",
   "execution_count": 50,
   "id": "e631628f",
   "metadata": {},
   "outputs": [
    {
     "data": {
      "text/plain": [
       "Amount Spent (Rs.)    0.312412\n",
       "dtype: float64"
      ]
     },
     "execution_count": 50,
     "metadata": {},
     "output_type": "execute_result"
    }
   ],
   "source": [
    "RMSE_percent"
   ]
  },
  {
   "cell_type": "code",
   "execution_count": null,
   "id": "53cb7268",
   "metadata": {},
   "outputs": [],
   "source": []
  },
  {
   "cell_type": "code",
   "execution_count": null,
   "id": "d2e23db7",
   "metadata": {},
   "outputs": [],
   "source": []
  }
 ],
 "metadata": {
  "kernelspec": {
   "display_name": "Python 3",
   "language": "python",
   "name": "python3"
  },
  "language_info": {
   "codemirror_mode": {
    "name": "ipython",
    "version": 3
   },
   "file_extension": ".py",
   "mimetype": "text/x-python",
   "name": "python",
   "nbconvert_exporter": "python",
   "pygments_lexer": "ipython3",
   "version": "3.8.8"
  }
 },
 "nbformat": 4,
 "nbformat_minor": 5
}
